{
 "cells": [
  {
   "cell_type": "markdown",
   "metadata": {},
   "source": [
    "# Stepwise regression\n",
    "\n",
    "https://dataaspirant.com/stepwise-regression/\n"
   ]
  },
  {
   "cell_type": "code",
   "execution_count": 1,
   "metadata": {},
   "outputs": [],
   "source": [
    "#importing all the modules\n",
    "import numpy as np\n",
    "import pandas as pd\n",
    "from sklearn.model_selection import train_test_split\n",
    "from sklearn.feature_selection import SelectKBest, f_regression\n",
    "from sklearn.impute import SimpleImputer\n",
    "from sklearn.feature_selection import SequentialFeatureSelector\n",
    "from sklearn.linear_model import LinearRegression\n",
    "\n",
    "#____loading data____\n",
    "df = pd.read_csv('../data/clean_house.csv')\n",
    "# df = pd.read_csv('./data/clean_app.csv')\n",
    "\n",
    "# ____Outliers handling_____\n",
    "Q1 = df[\"price\"].quantile(0.25)\n",
    "Q3 = df[\"price\"].quantile(0.75)\n",
    "IQR = Q3 - Q1\n",
    "\n",
    "max_value = Q3 + (1.5 * IQR)\n",
    "min_value = Q1 - (1.5 * IQR)\n",
    "\n",
    "outliers_mask = (df[\"price\"] < min_value) | (df[\"price\"] > max_value)\n",
    "df.loc[outliers_mask, \"price\"] = np.nan\n",
    "\n",
    "df.dropna(subset=[\"price\"], inplace=True)\n",
    "\n",
    "# _____dropping unnecessary columns____\n",
    "# for house and app\n",
    "columns_to_drop = ['property_id', 'latitude', 'longitude', 'property_type', 'type_of_sale', 'fully_equipped_kitchen']\n",
    "\n",
    "df.drop(columns_to_drop, axis=1, inplace=True)\n",
    "\n",
    "# _____imputing missing values for swimmingpool____\n",
    "constant_imputer = SimpleImputer(missing_values=np.nan, strategy='constant', fill_value=0)\n",
    "df[['swimming_pool']] = constant_imputer.fit_transform(df[['swimming_pool']])\n",
    "\n",
    "# _____one-hot encoding for kitchen_type____\n",
    "df = pd.get_dummies(df, columns=[\"kitchen_type\"], prefix=\"kitchen_type\")\n",
    "\n",
    "# _____one-hot encoding for state_of_building____\n",
    "df = pd.get_dummies(df, columns=[\"state_of_building\"], prefix=\"state_of_building\")\n",
    "\n",
    "# _____one-hot encoding for property_subtype____\n",
    "df = pd.get_dummies(df, columns=[\"property_subtype\"], prefix=\"property_subtype\")\n",
    "\n",
    "# _____one-hot encoding for province____\n",
    "df = pd.get_dummies(df, columns=[\"province\"], prefix=\"province\")\n",
    "\n",
    "# _____defining target and features____\n",
    "\n",
    "# columns_to_drop = ['price', 'number_of_rooms', 'terrace_area', 'garden_area', 'furnished', 'garden', 'terrace', 'number_of_facades', 'locality_name', 'main_city', 'province']\n",
    "columns_to_drop = ['price', 'locality_name', 'main_city']\n",
    "\n",
    "# Drop the specified columns\n",
    "X = df.drop(columns=columns_to_drop, axis=1)\n",
    "\n",
    "y = df['price']"
   ]
  },
  {
   "cell_type": "markdown",
   "metadata": {},
   "source": [
    "### Filling up NaN values\n",
    "\n",
    "- !!! data leakage, as it is done before training the model !!!"
   ]
  },
  {
   "cell_type": "code",
   "execution_count": 2,
   "metadata": {},
   "outputs": [],
   "source": [
    "# ____More Preprocess of the Data_____\n",
    "imp = SimpleImputer(strategy='median')\n",
    "X = imp.fit_transform(X)"
   ]
  },
  {
   "cell_type": "code",
   "execution_count": 3,
   "metadata": {},
   "outputs": [],
   "source": [
    "# _____Select the Top Features_____\n",
    "X_new = SelectKBest(f_regression, k=6).fit_transform(X, y)"
   ]
  },
  {
   "cell_type": "code",
   "execution_count": 4,
   "metadata": {},
   "outputs": [],
   "source": [
    "X_train, X_test, y_train, y_test = train_test_split(X_new, y, test_size=0.2, random_state=42)"
   ]
  },
  {
   "cell_type": "code",
   "execution_count": 5,
   "metadata": {},
   "outputs": [
    {
     "name": "stdout",
     "output_type": "stream",
     "text": [
      "R^2 score using default 0.4461435253892658\n"
     ]
    }
   ],
   "source": [
    "#default model\n",
    "lr = LinearRegression()\n",
    "lr.fit(X_train,y_train)\n",
    "# Predict the target values on the testing set\n",
    "y_pred = lr.predict(X_test)\n",
    "\n",
    "# Calculate the R^2 score\n",
    "r2 = lr.score(X_test, y_test)\n",
    "\n",
    "\n",
    "print(\"R^2 score using default\", r2)"
   ]
  },
  {
   "cell_type": "code",
   "execution_count": 6,
   "metadata": {},
   "outputs": [
    {
     "name": "stdout",
     "output_type": "stream",
     "text": [
      "Selected feature indices: [0 1 2 4 5]\n"
     ]
    }
   ],
   "source": [
    "# Initialize a linear regression model\n",
    "lr = LinearRegression()\n",
    "\n",
    "# Use SFS to perform stepwise feature selection\n",
    "sfs = SequentialFeatureSelector(lr, n_features_to_select=5, direction='backward', cv=10)\n",
    "sfs.fit(X_train, y_train)\n",
    "\n",
    "# Get the selected feature indices\n",
    "feature_idx = sfs.get_support(indices=True)\n",
    "\n",
    "# Print the selected feature indices\n",
    "print(\"Selected feature indices:\", feature_idx)"
   ]
  },
  {
   "cell_type": "code",
   "execution_count": 7,
   "metadata": {},
   "outputs": [
    {
     "name": "stdout",
     "output_type": "stream",
     "text": [
      "R^2 score using SFS 0.44554407413496944\n"
     ]
    }
   ],
   "source": [
    "# Select the top features based on the selected indices\n",
    "X_train_sfs = X_train[:, feature_idx]\n",
    "X_test_sfs = X_test[:, feature_idx]\n",
    "\n",
    "# Train a linear regression model on the training set with the selected features\n",
    "lr_sfs = LinearRegression()\n",
    "lr_sfs.fit(X_train_sfs, y_train)\n",
    "\n",
    "# Predict the target values on the testing set\n",
    "y_pred_sfs = lr_sfs.predict(X_test_sfs)\n",
    "\n",
    "# Calculate the R^2 score\n",
    "r2_sfs = lr_sfs.score(X_test_sfs, y_test)\n",
    "\n",
    "print(\"R^2 score using SFS\", r2_sfs)"
   ]
  }
 ],
 "metadata": {
  "kernelspec": {
   "display_name": ".venv",
   "language": "python",
   "name": "python3"
  },
  "language_info": {
   "codemirror_mode": {
    "name": "ipython",
    "version": 3
   },
   "file_extension": ".py",
   "mimetype": "text/x-python",
   "name": "python",
   "nbconvert_exporter": "python",
   "pygments_lexer": "ipython3",
   "version": "3.10.12"
  }
 },
 "nbformat": 4,
 "nbformat_minor": 2
}
